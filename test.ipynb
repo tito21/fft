{
 "cells": [
  {
   "cell_type": "code",
   "execution_count": 1,
   "metadata": {},
   "outputs": [],
   "source": [
    "import os\n",
    "import time\n",
    "\n",
    "import numpy as np\n",
    "import matplotlib.pyplot as plt\n"
   ]
  },
  {
   "cell_type": "code",
   "execution_count": 2,
   "metadata": {},
   "outputs": [
    {
     "name": "stdout",
     "output_type": "stream",
     "text": [
      "FFT C\n",
      "3.03 ms ± 1.09 ms per loop (mean ± std. dev. of 7 runs, 100 loops each)\n",
      "DFT C\n",
      "2.24 ms ± 129 µs per loop (mean ± std. dev. of 7 runs, 100 loops each)\n",
      "FFT C++\n",
      "3.59 ms ± 634 µs per loop (mean ± std. dev. of 7 runs, 100 loops each)\n",
      "DFT C++\n",
      "3.98 ms ± 598 µs per loop (mean ± std. dev. of 7 runs, 100 loops each)\n",
      "DFT python\n",
      "278 ms ± 24.5 ms per loop (mean ± std. dev. of 7 runs, 1 loop each)\n",
      "DFT vec python\n",
      "263 ms ± 15.5 ms per loop (mean ± std. dev. of 7 runs, 1 loop each)\n",
      "FFT vec python\n",
      "297 ms ± 22.3 ms per loop (mean ± std. dev. of 7 runs, 1 loop each)\n",
      "FFT NP python\n",
      "354 ms ± 22.6 ms per loop (mean ± std. dev. of 7 runs, 1 loop each)\n"
     ]
    }
   ],
   "source": [
    "num = 2**5\n",
    "\n",
    "print(\"FFT C\")\n",
    "%timeit os.system(f\"./c/fft FFT {num}\")\n",
    "\n",
    "print(\"DFT C\")\n",
    "%timeit os.system(f\"./c/fft DFT {num}\")\n",
    "\n",
    "print(\"FFT C++\")\n",
    "%timeit os.system(f\"./cpp/fft FFT {num}\")\n",
    "\n",
    "print(\"DFT C++\")\n",
    "%timeit os.system(f\"./cpp/fft DFT {num}\")\n",
    "\n",
    "print(\"DFT python\")\n",
    "%timeit os.system(f\"python python/fft.py DFT {num}\")\n",
    "\n",
    "print(\"DFT vec python\")\n",
    "%timeit os.system(f\"python python/fft.py DFT-VEC {num}\")\n",
    "\n",
    "print(\"FFT vec python\")\n",
    "%timeit os.system(f\"python python/fft.py FFT {num}\")\n",
    "\n",
    "print(\"FFT NP python\")\n",
    "%timeit os.system(f\"python python/fft.py FFT-NP {num}\")\n"
   ]
  },
  {
   "cell_type": "code",
   "execution_count": 3,
   "metadata": {},
   "outputs": [
    {
     "ename": "",
     "evalue": "",
     "output_type": "error",
     "traceback": [
      "\u001b[1;31mCanceled future for execute_request message before replies were done"
     ]
    },
    {
     "ename": "",
     "evalue": "",
     "output_type": "error",
     "traceback": [
      "\u001b[1;31mThe Kernel crashed while executing code in the the current cell or a previous cell. Please review the code in the cell(s) to identify a possible cause of the failure. Click <a href='https://aka.ms/vscodeJupyterKernelCrash'>here</a> for more info. View Jupyter <a href='command:jupyter.viewOutput'>log</a> for further details."
     ]
    }
   ],
   "source": [
    "\n",
    "def benchmark(command, num):\n",
    "\n",
    "    start = time.perf_counter()\n",
    "    os.system(command.format(num))\n",
    "    stop = time.perf_counter()\n",
    "    return stop - start\n",
    "\n",
    "runtime = {\n",
    "    'FFT-C': [],\n",
    "    # 'DFT-C': [],\n",
    "    'FFT-C++': [], \n",
    "    # 'DFT-C++': [],\n",
    "    'FFT-python': [],\n",
    "    # 'DFT-python': [],\n",
    "    # 'DFT-VEC-python': [],\n",
    "    'FFT-NP': []\n",
    "}\n",
    "\n",
    "n = []\n",
    "\n",
    "for i in range(1, 5):\n",
    "    num = 2**i\n",
    "    n.append(n)\n",
    "    runtime['FFT-C'].append(benchmark(\"./c/fft FFT {}\", num))\n",
    "    # runtime['DFT-C'].append(benchmark(\"./c/fft DFT {}\", num))\n",
    "\n",
    "    runtime['FFT-C++'].append(benchmark(\"./cpp/fft FFT {}\", num))\n",
    "    # runtime['DFT-C++'].append(benchmark(\"./cpp/fft DFT {}\", num))\n",
    "    \n",
    "    runtime['FFT-python'].append(benchmark(\"python python/fft.py FFT {}\", num))\n",
    "    # runtime['DFT-python'].append(benchmark(\"python python/fft.py DFT {}\", num))\n",
    "    # runtime['DFT-VEC-python'].append(benchmark(\"python python/fft.py DFT-VEC {}\", num))\n",
    "\n",
    "    runtime['FFT-NP'].append(benchmark(\"python python/fft.py FFT-NP {}\", num))\n",
    "\n",
    "for algo, perf in runtime.items():\n",
    "    plt.plot(n, perf, label=algo)\n",
    "\n",
    "plt.legend()\n",
    "plt.show()\n",
    "\n"
   ]
  },
  {
   "cell_type": "code",
   "execution_count": null,
   "metadata": {},
   "outputs": [],
   "source": []
  }
 ],
 "metadata": {
  "kernelspec": {
   "display_name": "Python 3.11.0 ('fft')",
   "language": "python",
   "name": "python3"
  },
  "language_info": {
   "codemirror_mode": {
    "name": "ipython",
    "version": 3
   },
   "file_extension": ".py",
   "mimetype": "text/x-python",
   "name": "python",
   "nbconvert_exporter": "python",
   "pygments_lexer": "ipython3",
   "version": "3.11.0"
  },
  "vscode": {
   "interpreter": {
    "hash": "4c955dda78acc2374d828ccdab0ef7c7337cab4dc421d09393c0f04515bb303e"
   }
  }
 },
 "nbformat": 4,
 "nbformat_minor": 4
}
